{
 "cells": [
  {
   "cell_type": "markdown",
   "id": "b00ea2e3",
   "metadata": {},
   "source": [
    "# Contact Book Management"
   ]
  },
  {
   "cell_type": "code",
   "execution_count": 1,
   "id": "c4dc8b51",
   "metadata": {},
   "outputs": [],
   "source": [
    "# open contact\n",
    "# search contact\n",
    "# add contact \n",
    "# update name and number \n",
    "# delete contact \n",
    "# 0 for back to menu        "
   ]
  },
  {
   "cell_type": "code",
   "execution_count": 2,
   "id": "fc0ad5f3",
   "metadata": {},
   "outputs": [],
   "source": [
    "import numpy as np\n",
    "import pandas as pd\n",
    "import winsound"
   ]
  },
  {
   "cell_type": "code",
   "execution_count": 3,
   "id": "27bb208c",
   "metadata": {},
   "outputs": [],
   "source": [
    "def setupDatabase():\n",
    "    global contact_data\n",
    "    try:\n",
    "        contact_data = pd.read_csv(r'C:\\Users\\Kunwa\\OneDrive\\Desktop\\Data Science\\Data Science Course Project\\Data\\Contact.csv')\n",
    "        contact_data.drop('Unnamed: 0',axis=1,inplace=True)\n",
    "    except:\n",
    "        di = [{'Name': \"Akshat\",'Number':1,'2nd Number': 2,'3rd Number':3,'Email':'Abc@123','NickName':'Akku'}]\n",
    "        contact_data = pd.DataFrame(di)"
   ]
  },
  {
   "cell_type": "code",
   "execution_count": 4,
   "id": "79e0977a",
   "metadata": {},
   "outputs": [],
   "source": [
    "def update_contact(a):\n",
    "    l=['Number','2nd Number','3rd Number','Email','NickName']\n",
    "\n",
    "    new = input('Enter new Name: ').title()\n",
    "    contact_data.loc[contact_data[contact_data.Name== a].index.values,'Name']=new \n",
    "    for i in l:\n",
    "        print(f'Do You want to Update Your {i} Y/N')\n",
    "        want_num = input().title()\n",
    "        if want_num == 'Y': \n",
    "            contact_data.loc[contact_data[contact_data.Name==new].index.values,i]=int(input(f'Enter new {i}: '))\n",
    "        else:               pass\n",
    "\n",
    "    print('\\nDone Successful','\\n',contact_data)\n",
    "    winsound.PlaySound('FILENAMEHERE.wav', winsound.SND_FILENAME)\n"
   ]
  },
  {
   "cell_type": "markdown",
   "id": "d33f3a99",
   "metadata": {},
   "source": [
    "# Add Details"
   ]
  },
  {
   "cell_type": "code",
   "execution_count": 5,
   "id": "cc2d1aae",
   "metadata": {},
   "outputs": [],
   "source": [
    "def function_name():\n",
    "    while 1:\n",
    "        x = input(\"Add Details \\nName: \").title()\n",
    "        if x in contact_data.Name.values: \n",
    "            print('\\nName already exist \\nPress 1 to Update Contact \\nPress 2 For Retry')\n",
    "            print(contact_data[contact_data.Name == x ])\n",
    "            input12 = int(input('\\nOption: '))        \n",
    "            if input12 == 1:   \n",
    "                update_contact(x)\n",
    "                return 'y'\n",
    "            elif input12 ==2:  continue   \n",
    "        else:   return x     "
   ]
  },
  {
   "cell_type": "code",
   "execution_count": 6,
   "id": "322821c4",
   "metadata": {},
   "outputs": [],
   "source": [
    "def function_number():\n",
    "    while 1:\n",
    "        x = int(input(\"Number: \"))   # number 1\n",
    "        if x in contact_data.values:\n",
    "            print('\\nNumber already exist \\nPress 1 to Update Name \\nPress 2 For Retry')\n",
    "            print(contact_data[contact_data.Number==x])\n",
    "            input12 = int(input('\\nOption: '))\n",
    "            if input12 == 1:\n",
    "                contact_data.loc[contact_data[contact_data.Number==x].index.values,'Name']=input('Enter new Name: ').title()\n",
    "                return 'y'\n",
    "            elif input12 ==2: continue\n",
    "        else:   return x"
   ]
  },
  {
   "cell_type": "code",
   "execution_count": 7,
   "id": "7f6c47ab",
   "metadata": {},
   "outputs": [],
   "source": [
    "def Funtion_new_number(dataitem):\n",
    "    while 1:\n",
    "        print(f'Want {dataitem} press Y/N')\n",
    "        want_num = input().title()\n",
    "        if want_num == 'Y':   return input(\"2nd Number: \")\n",
    "        elif want_num=='N':   return np.nan\n",
    "        else:\n",
    "            print('...Invalid Input... \\n...Try Again... ')\n",
    "            pass"
   ]
  },
  {
   "cell_type": "code",
   "execution_count": 8,
   "id": "603c5989",
   "metadata": {},
   "outputs": [],
   "source": [
    "def add_details():    \n",
    "    while 1:     \n",
    "        l3=['2nd number','3rd number']\n",
    "        \n",
    "        a = function_name()             # Name  \n",
    "        if a == 'y':\n",
    "            print('Thank You \\nBack To Main Value')\n",
    "            return\n",
    "        b = function_number()           # Number\n",
    "        if b == 'y':\n",
    "            print('Thank You \\nBack To Main Value')\n",
    "            return\n",
    "        c = Funtion_new_number(l3[0])   # Number 2 \n",
    "        d = Funtion_new_number(l3[1])   # Number3\n",
    "        e = input(\"Email: \")            # Email\n",
    "        f = input(\"NickName: \").title() # Nickname\n",
    "        dic = dict(zip(contact_data.columns,[a,b,c,d,e,f]))\n",
    "        contact_data.loc[len(contact_data)] = [a,b,c,d,e,f]\n",
    "        print('\\nSuccessful\\n',contact_data,'\\nPress 1 to Retry \\nPress 2 to go back to Menu')\n",
    "        winsound.PlaySound('FILENAMEHERE.wav', winsound.SND_FILENAME)\n",
    "        contact_data.to_csv(r'C:\\Users\\Kunwa\\OneDrive\\Desktop\\Data Science\\Data Science Course Project\\Data\\Contact.csv')\n",
    "        input12 = int(input(\"\\nEnter Option Number: \"))\n",
    "        if input12 == 1:    continue          ## to return to same function \n",
    "        elif input12 == 2:  return            # to return to menu function \n",
    "# add_details()"
   ]
  },
  {
   "cell_type": "markdown",
   "id": "50c62ab9",
   "metadata": {},
   "source": [
    "# Search data"
   ]
  },
  {
   "cell_type": "code",
   "execution_count": 9,
   "id": "e9d120e7",
   "metadata": {},
   "outputs": [],
   "source": [
    "def function_search(dataItem):\n",
    "    while 1:\n",
    "        name1 = input(f\"\\n{dataItem}: \").title()\n",
    "        if name1 in contact_data[dataItem].values:\n",
    "            print(contact_data[contact_data[dataItem] == name1 ],'\\nPress 1 to Retry \\nPress 2 to go back to Menu ')\n",
    "            input12 = int(input(\"\\nEnter Option Number: \"))\n",
    "            if input12 == 1:    continue\n",
    "            elif input12 == 2:  return \n",
    "        else:\n",
    "            print('Invalid Input \\nPress 1 to Retry \\nPress 2 to go back to Menu ')\n",
    "            input12 = int(input(\"\\nEnter Option Number: \"))\n",
    "            if input12 == 1:    continue\n",
    "            elif input12 == 2:  return"
   ]
  },
  {
   "cell_type": "code",
   "execution_count": 10,
   "id": "346ea15a",
   "metadata": {},
   "outputs": [],
   "source": [
    "def search_data():\n",
    "    while 1:       \n",
    "        print('''\\nSearch on the basis of\n",
    "        Name      Press 1\n",
    "        Number    Press 2\n",
    "        Email     Press 3\n",
    "        NickName  Press 4\n",
    "        Main Menu Press 5 ''')\n",
    "        l1 =['Name','Number','Email','NickName']  \n",
    "        num = (input(\"\\nEnter Option Number: \"))\n",
    "        if   num == '1':  function_search(l1[int(num)-1])\n",
    "        elif num == '2':  function_search(l1[int(num)-1])\n",
    "        elif num == '3':  function_search(l1[int(num)-1])\n",
    "        elif num == '4':  function_search(l1[int(num)-1])\n",
    "        elif num == '5':  return\n",
    "        else:\n",
    "            print('Invalid Input \\nPress 1 to Retry \\nPress 2 to go back to Menu ')  \n",
    "            input12 = int(input(\"\\nEnter Option Number: \"))\n",
    "            if input12 == 1:    continue          ## to return to same function \n",
    "            elif input12 == 2:  return            # to return to menu function\n",
    "            \n",
    "# search_data()"
   ]
  },
  {
   "cell_type": "markdown",
   "id": "42dcc4e9",
   "metadata": {},
   "source": [
    "# Delete Data"
   ]
  },
  {
   "cell_type": "code",
   "execution_count": 11,
   "id": "21aafee5",
   "metadata": {},
   "outputs": [],
   "source": [
    "def function_del(dataItem):\n",
    "    while 1:\n",
    "            name1 = input(f\"\\n{dataItem}: \").title()\n",
    "            if name1 in contact_data[dataItem].values:\n",
    "                n = list((contact_data[contact_data[dataItem] == name1 ]).index)\n",
    "                contact_data.drop(index = n , inplace = True)\n",
    "                print('\\nsuccessfully Done','\\n',contact_data,'\\nPress 1 to Retry \\nPress 2 to go back to Menu ')\n",
    "                winsound.PlaySound('FILENAMEHERE.wav', winsound.SND_FILENAME)\n",
    "\n",
    "                contact_data.to_csv(r'C:\\Users\\Kunwa\\OneDrive\\Desktop\\Data Science\\Data Science Course Project\\Data\\Contact.csv')\n",
    "                input12 = int(input(\"\\nEnter Option Number: \"))\n",
    "                if input12 == 1:    continue\n",
    "                elif input12 == 2:  return \n",
    "            else:\n",
    "                print('Invalid Input \\nPress 1 to Retry \\nPress 2 to go back to Menu ')                \n",
    "                input12 = int(input(\"\\nEnter Option Number: \"))\n",
    "                if input12 == 1:    continue\n",
    "                elif input12 == 2:  return"
   ]
  },
  {
   "cell_type": "code",
   "execution_count": 12,
   "id": "2dba7e85",
   "metadata": {},
   "outputs": [],
   "source": [
    "def delete_data():\n",
    "    \n",
    "    while 1: \n",
    "        print('''Delete on the basis of\n",
    "                Name      Press 1\n",
    "                Number    Press 2\n",
    "                Email     Press 3\n",
    "                NickName  Press 4\n",
    "                Main Menu Press 5''')\n",
    "        l1 =['Name','Number','Email','NickName']     \n",
    "        num = (input(\"Enter Option Number: \"))\n",
    "        if   num == '1': function_del(l1[int(num)-1])\n",
    "        elif num == '2': function_del(l1[int(num)-1])\n",
    "        elif num == '3': function_del(l1[int(num)-1])\n",
    "        elif num == '4': function_del(l1[int(num)-1])\n",
    "        elif num == '5': return\n",
    "        else:\n",
    "            print('Invalid Input \\nPress 1 to Retry \\nPress 2 to go back to Menu ')  \n",
    "            if input12 == 1:    continue          ## to return to same function \n",
    "            elif input12 == 2:  return            # to return to menu function "
   ]
  },
  {
   "cell_type": "markdown",
   "id": "4e07e0a0",
   "metadata": {},
   "source": [
    "# Update Data of Numbers"
   ]
  },
  {
   "cell_type": "code",
   "execution_count": 13,
   "id": "19f325ae",
   "metadata": {},
   "outputs": [],
   "source": [
    "def function_update_num(dataItem):\n",
    "    while 1:\n",
    "        name1 = input(\"\\nEnter Person Name: \").title()\n",
    "        if name1 in contact_data.values: \n",
    "            contact_data.loc[contact_data[contact_data.Name==name1].index.values,dataItem]=int(input(f'\\nEnter new {dataItem}: '))\n",
    "            print('\\nsuccessfully Done','\\n',contact_data,'\\nPress 1 to Retry \\nPress 2 to go back ')\n",
    "            winsound.PlaySound('FILENAMEHERE.wav', winsound.SND_FILENAME)\n",
    "\n",
    "            contact_data.to_csv(r'C:\\Users\\Kunwa\\OneDrive\\Desktop\\Data Science\\Data Science Course Project\\Data\\Contact.csv')\n",
    "            input12 = int(input(\"\\nEnter Option Number: \"))\n",
    "            if input12 == 1:    continue\n",
    "            elif input12 == 2:  return\n",
    "        else:\n",
    "            print('Invalid Input \\nPress 1 to Retry \\nPress 2 to go back ')                \n",
    "            input12 = int(input(\"\\nEnter Option Number: \"))\n",
    "            if input12 == 1:    continue\n",
    "            elif input12 == 2:  return\n",
    "    "
   ]
  },
  {
   "cell_type": "code",
   "execution_count": 14,
   "id": "e857758c",
   "metadata": {},
   "outputs": [],
   "source": [
    "def update_numbers():\n",
    "    \n",
    "    while True:\n",
    "        print('''\n",
    "        Press 1 to update number 1\n",
    "        Press 2 to update number 2\n",
    "        Press 3 to update number 3\n",
    "        Press 4 to go back at Update Menu''')\n",
    "        l2 = ['Number','2nd Number','3rd Number' ]\n",
    "        num2 = (input(\"Enter Option Number: \"))\n",
    "        if   num2 == '1':  function_update_num(l2[int(num2)-1])\n",
    "        elif num2 == '2':  function_update_num(l2[int(num2)-1])\n",
    "        elif num2 == '3':  function_update_num(l2[int(num2)-1])            \n",
    "        elif num2 == '4':  return\n",
    "        else:\n",
    "            print('Invalid Input \\nPress 1 to Retry \\nPress 2 to go back to Menu ')  \n",
    "            input12 = int(input(\"\\nEnter Option Number: \"))\n",
    "            if input12 == 1:    continue          ## to return to same function \n",
    "            elif input12 == 2:  return            # to return to menu function \n",
    "# update_numbers()"
   ]
  },
  {
   "cell_type": "markdown",
   "id": "564624cd",
   "metadata": {},
   "source": [
    "# Update data"
   ]
  },
  {
   "cell_type": "code",
   "execution_count": 15,
   "id": "dabf3100",
   "metadata": {},
   "outputs": [],
   "source": [
    "def function_update_data(dataItem):\n",
    "    while 1:\n",
    "        name1 = input(f\"\\nEnter old {dataItem}: \").title()\n",
    "        if name1 in contact_data[dataItem].values: \n",
    "            new = input(f'\\nEnter new {dataItem}: ').title()\n",
    "            contact_data.loc[contact_data[contact_data.Name==name1].index.values,dataItem]= new\n",
    "            print('\\nsuccessfully Done','\\n',contact_data,'\\nPress 1 to Retry \\nPress 2 to go back to Menu ')\n",
    "            winsound.PlaySound('FILENAMEHERE.wav', winsound.SND_FILENAME)\n",
    "\n",
    "            contact_data.to_csv(r'C:\\Users\\Kunwa\\OneDrive\\Desktop\\Data Science\\Data Science Course Project\\Data\\Contact.csv')\n",
    "            input12 = int(input(\"\\nEnter Option Number: \"))\n",
    "            if input12 == 1:    continue\n",
    "            elif input12 == 2:  return\n",
    "        else:\n",
    "            print(\"Name Doesn't Exist \\nPress 1 to Retry \\nPress 2 to go back to Menu \") \n",
    "            input12 = int(input(\"\\nEnter Option Number: \"))\n",
    "            if input12 == 1:    continue\n",
    "            elif input12 == 2:  return"
   ]
  },
  {
   "cell_type": "code",
   "execution_count": 16,
   "id": "66172e20",
   "metadata": {},
   "outputs": [],
   "source": [
    "def update_data():\n",
    "    \n",
    "    while True:    \n",
    "        print('''To Update Data of \n",
    "        Name          Press 1\n",
    "        Number        Press 2\n",
    "        Email         Press 3\n",
    "        NickName      Press 4\n",
    "        Main Menu     Press 5''')\n",
    "        l1 =['Name','Number','Email','NickName']  \n",
    "        num1 = (input(\"Enter Option Number: \"))\n",
    "        if   num1 == '1':   function_update_data(l1[int(num1)-1])            \n",
    "        elif num1 == '2':   update_numbers()\n",
    "        elif num1 == '3':   function_update_data(l1[int(num1)-1])           \n",
    "        elif num1 == '4':   function_update_data(l1[int(num1)-1])         \n",
    "        elif num1=='5':     return\n",
    "        else:\n",
    "            print('Invalid Input \\nPress 1 to Retry \\nPress 2 to go back to Menu ')\n",
    "            input12 = int(input(\"\\nEnter Option Number: \"))\n",
    "            if input12 == 1:    continue          ## to return to same function \n",
    "            elif input12 == 2:  return            # to return to menu function "
   ]
  },
  {
   "cell_type": "markdown",
   "id": "a23c7209",
   "metadata": {},
   "source": [
    "# Main code"
   ]
  },
  {
   "cell_type": "code",
   "execution_count": 17,
   "id": "276b3190",
   "metadata": {},
   "outputs": [],
   "source": [
    "def Contact_Book():\n",
    "    setupDatabase()\n",
    "    flag = 4\n",
    "    print('''\n",
    "    .....Welcome to Contact Book Mangement....\n",
    "    ...........To Open Press Y/N..............''')\n",
    "    open1 = input('Y/N: ').title()\n",
    "    if open1 == 'Y':\n",
    "        while flag:\n",
    "            print('''\n",
    "            To Open Contact Book                 Press 1\n",
    "            To Add New Contact                   Press 2\n",
    "            To Search Contact                    Press 3\n",
    "            To Update Name/Number/Email/NickName Press 4\n",
    "            To Delete Contact                    Press 5\n",
    "            To Exit                              Press 0 ''')\n",
    "            Option1 = (input(\"Enter Option Number: \"))\n",
    "            if   Option1 == '1':     print(contact_data) \n",
    "            elif Option1 == '2':     add_details()\n",
    "            elif Option1 == '3':     search_data()\n",
    "            elif Option1 == '4':     update_data()\n",
    "            elif Option1 == '5':     delete_data()\n",
    "            elif Option1== '0':\n",
    "                print('/nThank You For Visiting \\n....Contact Book.....')\n",
    "                break\n",
    "            else:\n",
    "                print('\\n.....Invalid input.....','\\n',f'You have {flag - 1} Chances Left.')\n",
    "                flag-=1      \n",
    "\n",
    "    elif open1 == 'N':     print('/nThank You For Visiting \\n....Contact Book.....')\n",
    "    else:                  print('Invalid Input /nThank You For Visiting \\n....Contact Book.....')\n",
    "        "
   ]
  },
  {
   "cell_type": "code",
   "execution_count": null,
   "id": "1f7e1557",
   "metadata": {},
   "outputs": [],
   "source": [
    "Contact_Book()\n",
    "contact_data.to_csv(r'C:\\Users\\Kunwa\\OneDrive\\Desktop\\Data Science\\Data Science Course Project\\Data\\Contact.csv')"
   ]
  },
  {
   "cell_type": "code",
   "execution_count": null,
   "id": "13a4f748",
   "metadata": {},
   "outputs": [],
   "source": []
  },
  {
   "cell_type": "code",
   "execution_count": null,
   "id": "b693b645",
   "metadata": {},
   "outputs": [],
   "source": []
  },
  {
   "cell_type": "code",
   "execution_count": null,
   "id": "dd237c6a",
   "metadata": {},
   "outputs": [],
   "source": []
  },
  {
   "cell_type": "code",
   "execution_count": null,
   "id": "86513b2b",
   "metadata": {},
   "outputs": [],
   "source": []
  }
 ],
 "metadata": {
  "kernelspec": {
   "display_name": "Python 3 (ipykernel)",
   "language": "python",
   "name": "python3"
  },
  "language_info": {
   "codemirror_mode": {
    "name": "ipython",
    "version": 3
   },
   "file_extension": ".py",
   "mimetype": "text/x-python",
   "name": "python",
   "nbconvert_exporter": "python",
   "pygments_lexer": "ipython3",
   "version": "3.11.2"
  }
 },
 "nbformat": 4,
 "nbformat_minor": 5
}
